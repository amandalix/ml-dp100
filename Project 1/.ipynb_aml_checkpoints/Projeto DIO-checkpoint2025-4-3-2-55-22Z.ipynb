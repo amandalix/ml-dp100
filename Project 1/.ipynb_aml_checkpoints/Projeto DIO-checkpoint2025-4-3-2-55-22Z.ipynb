{
  "cells": [
    {
      "cell_type": "markdown",
      "source": [
        "# Treinando modelo de regressão logística com SDK do Azure para Python\n",
        "\n",
        "## Verificar o pacote **azure-ai-ml**\n",
        "\n",
        "É necessário a última versão do pacote **azure-ai-ml** para rodar o código nesse notebook. Executar a célula abaixo para verificar se está na última versão.\n",
        "\n",
        "> **Obs**:\n",
        "> Se o pacote **azure-ai-ml** não estiver instalado, execute `pip install azure-ai-ml` para instalar."
      ],
      "metadata": {
        "nteract": {
          "transient": {
            "deleting": false
          }
        }
      }
    },
    {
      "cell_type": "code",
      "source": [
        "pip show azure-ai-ml"
      ],
      "outputs": [
        {
          "output_type": "stream",
          "name": "stdout",
          "text": "Name: azure-ai-ml\nVersion: 1.26.5\nSummary: Microsoft Azure Machine Learning Client Library for Python\nHome-page: https://github.com/Azure/azure-sdk-for-python\nAuthor: Microsoft Corporation\nAuthor-email: azuresdkengsysadmins@microsoft.com\nLicense: MIT License\nLocation: /anaconda/envs/azureml_py38/lib/python3.10/site-packages\nRequires: azure-common, azure-core, azure-mgmt-core, azure-monitor-opentelemetry, azure-storage-blob, azure-storage-file-datalake, azure-storage-file-share, colorama, isodate, jsonschema, marshmallow, msrest, pydash, pyjwt, pyyaml, strictyaml, tqdm, typing-extensions\nRequired-by: \nNote: you may need to restart the kernel to use updated packages.\n"
        }
      ],
      "execution_count": 25,
      "metadata": {
        "gather": {
          "logged": 1746238809126
        }
      }
    },
    {
      "cell_type": "markdown",
      "source": [
        "## Conectar workspace do Azure Machine Learning\n",
        "\n",
        "Para conectar a workspace é preciso ter antes criado os seguintes itens: Resource Group > Workspace Azure Machine Learning > Instância de Computação e Cluster.\n",
        "\n",
        "No script será necessário identificar os parâmetros, mas ao executar esse notebook dentro de um Studio do Azure Machine Learning, esses podem ser setados como Default."
      ],
      "metadata": {
        "nteract": {
          "transient": {
            "deleting": false
          }
        }
      }
    },
    {
      "cell_type": "code",
      "source": [
        "from azure.identity import DefaultAzureCredential, InteractiveBrowserCredential\n",
        "from azure.ai.ml import MLClient\n",
        "\n",
        "try:\n",
        "    credential = DefaultAzureCredential()\n",
        "    # Verifica se consegue gerar token\n",
        "    credential.get_token(\"https://management.azure.com/.default\")\n",
        "except Exception as ex:\n",
        "    # Em caso de falha, o Browser pedirá as credenciais.\n",
        "    credential = InteractiveBrowserCredential()"
      ],
      "outputs": [],
      "execution_count": 26,
      "metadata": {
        "gather": {
          "logged": 1746238812314
        }
      }
    },
    {
      "cell_type": "code",
      "source": [
        "# Config MLClient\n",
        "ml_client = MLClient.from_config(credential=credential)"
      ],
      "outputs": [
        {
          "output_type": "stream",
          "name": "stderr",
          "text": "Found the config file in: /config.json\nOverriding of current TracerProvider is not allowed\nOverriding of current LoggerProvider is not allowed\nOverriding of current MeterProvider is not allowed\nAttempting to instrument while already instrumented\nAttempting to instrument while already instrumented\nAttempting to instrument while already instrumented\nAttempting to instrument while already instrumented\nAttempting to instrument while already instrumented\n"
        }
      ],
      "execution_count": 27,
      "metadata": {
        "gather": {
          "logged": 1746238814602
        }
      }
    },
    {
      "cell_type": "markdown",
      "source": [
        "## Treinando o Modelo\n",
        "\n",
        "Para treinar um modelo, é preciso criar o script python (**vendas-sorvetes.py**) na pasta **src**. O script utilizará o arquivo **vendas_sorvetes_clima_itanhaem_2023.csv** da mesma pasta."
      ],
      "metadata": {
        "nteract": {
          "transient": {
            "deleting": false
          }
        }
      }
    },
    {
      "cell_type": "code",
      "source": [
        "%%writefile src/vendas-sorvetes-2.py\n",
        "# importar bibliotecas\n",
        "import pandas as pd\n",
        "import numpy as np\n",
        "import matplotlib.pyplot as plt\n",
        "from sklearn.model_selection import train_test_split\n",
        "from sklearn.linear_model import LinearRegression\n",
        "from sklearn.metrics import mean_absolute_error, mean_squared_error, r2_score\n",
        "\n",
        "# load dos dados de vendas\n",
        "print(\"Loading Data...\")\n",
        "df = pd.read_csv('vendas_sorvetes_clima_itanhaem_2023.csv')\n",
        "\n",
        "# transformando variavel categorica em binária\n",
        "df['ocorrencia_chuva'] = df['ocorrencia_chuva'].map({'Sim': 1, 'Não': 0})\n",
        "\n",
        "# separar features e labels\n",
        "X, y = df[['temp_media','precipitacao','ocorrencia_chuva']].values, df['Qtd'].values\n",
        "\n",
        "# split dos dados entre treino e teste\n",
        "X_train, X_test, y_train, y_test = train_test_split(X, y, test_size=0.20, random_state=0)\n",
        "\n",
        "# treinar modelo de regressão linear\n",
        "print('Treinando modelo de regressão linear...')\n",
        "model = LinearRegression().fit(X_train, y_train)\n",
        "\n",
        "# calcular predições\n",
        "y_hat = model.predict(X_test)\n",
        "\n",
        "# calcular métricas de avaliação\n",
        "mae = mean_absolute_error(y_test, y_hat)\n",
        "mse = mean_squared_error(y_test, y_hat)\n",
        "rmse = np.sqrt(mse)\n",
        "r2 = r2_score(y_test, y_hat)\n",
        "\n",
        "# exibir resultados\n",
        "print('MAE (Erro Absoluto Médio):', mae)\n",
        "print('MSE (Erro Quadrático Médio):', mse)\n",
        "print('RMSE (Raiz do Erro Quadrático Médio):', rmse)\n",
        "print('R² (Coeficiente de Determinação):', r2)\n",
        "\n",
        "# Resíduos\n",
        "residuos = y_test - y_hat\n",
        "\n",
        "# Gráfico de resíduos\n",
        "plt.scatter(y_hat, residuos)\n",
        "plt.axhline(y=0, color='r', linestyle='--')\n",
        "plt.xlabel('Predições')\n",
        "plt.ylabel('Resíduos')\n",
        "plt.title('Gráfico de Resíduos')\n",
        "plt.show()\n",
        "\n",
        "# Matriz de correlação\n",
        "correlation_matrix = df[['temp_media', 'precipitacao', 'ocorrencia_chuva', 'Qtd']].corr()\n",
        "print(correlation_matrix)\n",
        "\n",
        "# Visualizando os coeficientes com os nomes das variáveis\n",
        "coef_df = pd.DataFrame(model.coef_, ['temp_media', 'precipitacao', 'ocorrencia_chuva'], columns=['Coeficiente'])\n",
        "print(coef_df)"
      ],
      "outputs": [
        {
          "output_type": "stream",
          "name": "stdout",
          "text": "Overwriting src/vendas-sorvetes-2.py\n"
        }
      ],
      "execution_count": 40,
      "metadata": {}
    },
    {
      "cell_type": "code",
      "source": [
        "%%writefile src/vendas-sorvetes.py\n",
        "# importar bibliotecas\n",
        "import pandas as pd\n",
        "import numpy as np\n",
        "\n",
        "from sklearn.model_selection import train_test_split\n",
        "from sklearn.linear_model import LinearRegression\n",
        "from sklearn.metrics import roc_auc_score\n",
        "from sklearn.metrics import roc_curve\n",
        "\n",
        "# load dos dados de vendas\n",
        "print(\"Loading Data...\")\n",
        "df = pd.read_csv('vendas_sorvetes_clima_itanhaem_2023.csv')\n",
        "\n",
        "# transformando variavel categorica em binária\n",
        "df['ocorrencia_chuva'] = df['ocorrencia_chuva'].map({'Sim': 1, 'Não': 0})\n",
        "\n",
        "# separar features e labels\n",
        "X, y = df[['temp_media','precipitacao','ocorrencia_chuva']].values, df['Qtd'].values\n",
        "\n",
        "# split dos dados entre treino e teste\n",
        "X_train, X_test, y_train, y_test = train_test_split(X, y, test_size=0.20, random_state=0)\n",
        "\n",
        "# configurar hyperparâmetro de regularização\n",
        "reg = 0.01\n",
        "\n",
        "\n",
        "# treinar modelo de regressão logística\n",
        "print('Treinando modelo de regressão logística com regularização = ', reg)\n",
        "model = LinearRegression(C=1/reg, solver=\"liblinear\").fit(X_train, y_train)\n",
        "\n",
        "# calcular acurácia\n",
        "y_hat = model.predict(X_test)\n",
        "acc = np.average(y_hat == y_test)\n",
        "print('Accuracy:', acc)\n",
        "\n",
        "\n",
        "\n",
        "# calcular AUC\n",
        "y_scores = model.predict_proba(X_test)\n",
        "auc = roc_auc_score(y_test,y_scores[:,1])\n",
        "print('AUC: ' + str(auc))\n",
        "\n",
        "\n",
        "\n"
      ],
      "outputs": [
        {
          "output_type": "stream",
          "name": "stdout",
          "text": "Overwriting src/vendas-sorvetes.py\n"
        }
      ],
      "execution_count": 36,
      "metadata": {}
    },
    {
      "cell_type": "markdown",
      "source": [
        "Executar a célula abaixo para gerar um job de execução do script:"
      ],
      "metadata": {
        "nteract": {
          "transient": {
            "deleting": false
          }
        }
      }
    },
    {
      "cell_type": "code",
      "source": [
        "from azure.ai.ml import command\n",
        "\n",
        "# configurar o job\n",
        "job = command(\n",
        "    code=\"./src\",\n",
        "    command=\"python vendas-sorvetes-2.py\",\n",
        "    environment=\"AzureML-sklearn-0.24-ubuntu18.04-py37-cpu@latest\",\n",
        "    compute=\"computeml\",\n",
        "    display_name=\"sorvetes-pythonv2-treino\",\n",
        "    experiment_name=\"vendas-sorvetes-reglinear\"\n",
        ")\n",
        "\n",
        "# criar job\n",
        "returned_job = ml_client.create_or_update(job)\n",
        "aml_url = returned_job.studio_url\n",
        "print(\"Monitor your job at\", aml_url)"
      ],
      "outputs": [
        {
          "output_type": "stream",
          "name": "stderr",
          "text": "\r\u001b[32mUploading src (0.01 MBs):   0%|          | 0/13459 [00:00<?, ?it/s]\r\u001b[32mUploading src (0.01 MBs): 100%|██████████| 13459/13459 [00:00<00:00, 410622.41it/s]\n\u001b[39m\n\n"
        },
        {
          "output_type": "stream",
          "name": "stdout",
          "text": "Monitor your job at https://ml.azure.com/runs/silly_window_3fcdclbhnv?wsid=/subscriptions/f33fd907-1df0-4fcf-b8df-9759ee181952/resourcegroups/rg-project1/workspaces/ws-dio&tid=de26de07-6fc8-4380-b046-12854fc8cd3c\n"
        }
      ],
      "execution_count": 41,
      "metadata": {
        "gather": {
          "logged": 1746240454822
        }
      }
    }
  ],
  "metadata": {
    "kernelspec": {
      "name": "python38-azureml",
      "language": "python",
      "display_name": "Python 3.10 - AzureML"
    },
    "language_info": {
      "name": "python",
      "version": "3.10.11",
      "mimetype": "text/x-python",
      "codemirror_mode": {
        "name": "ipython",
        "version": 3
      },
      "pygments_lexer": "ipython3",
      "nbconvert_exporter": "python",
      "file_extension": ".py"
    },
    "microsoft": {
      "ms_spell_check": {
        "ms_spell_check_language": "en"
      },
      "host": {
        "AzureML": {
          "notebookHasBeenCompleted": true
        }
      }
    },
    "kernel_info": {
      "name": "python38-azureml"
    },
    "nteract": {
      "version": "nteract-front-end@1.0.0"
    }
  },
  "nbformat": 4,
  "nbformat_minor": 2
}