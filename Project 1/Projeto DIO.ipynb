{
  "cells": [
    {
      "cell_type": "markdown",
      "metadata": {
        "nteract": {
          "transient": {
            "deleting": false
          }
        }
      },
      "source": [
        "# Treinando modelo de regressão logística com SDK do Azure para Python\n",
        "\n",
        "## Verificar o pacote **azure-ai-ml**\n",
        "\n",
        "É necessário a última versão dos pacotes **azure-ai-ml** e **mlflow** para rodar o código nesse notebook. Executar as células abaixo para verificar se está na última versão.\n",
        "\n",
        "> **Obs**:\n",
        "> Se os pacotes **azure-ai-ml** e **mlflow** não estiver instalado, execute `pip install azure-ai-ml` e `pip install mlflow azureml-mlflow` para instalar."
      ]
    },
    {
      "cell_type": "code",
      "execution_count": null,
      "metadata": {
        "gather": {
          "logged": 1746478465451
        }
      },
      "outputs": [],
      "source": [
        "pip show azure-ai-ml"
      ]
    },
    {
      "cell_type": "code",
      "execution_count": null,
      "metadata": {
        "gather": {
          "logged": 1746242247670
        }
      },
      "outputs": [],
      "source": [
        "pip show mlflow azureml-mlflow"
      ]
    },
    {
      "cell_type": "markdown",
      "metadata": {
        "nteract": {
          "transient": {
            "deleting": false
          }
        }
      },
      "source": [
        "## Conectar workspace do Azure Machine Learning\n",
        "\n",
        "Para conectar a workspace é preciso ter antes criado os seguintes itens: Resource Group > Workspace Azure Machine Learning > Instância de Computação e Cluster.\n",
        "\n",
        "No script será necessário identificar os parâmetros, mas ao executar esse notebook dentro de um Studio do Azure Machine Learning, esses podem ser setados como Default."
      ]
    },
    {
      "cell_type": "code",
      "execution_count": 26,
      "metadata": {
        "gather": {
          "logged": 1746238812314
        }
      },
      "outputs": [],
      "source": [
        "from azure.identity import DefaultAzureCredential, InteractiveBrowserCredential\n",
        "from azure.ai.ml import MLClient\n",
        "\n",
        "try:\n",
        "    credential = DefaultAzureCredential()\n",
        "    # Verifica se consegue gerar token\n",
        "    credential.get_token(\"https://management.azure.com/.default\")\n",
        "except Exception as ex:\n",
        "    # Em caso de falha, o Browser pedirá as credenciais.\n",
        "    credential = InteractiveBrowserCredential()"
      ]
    },
    {
      "cell_type": "code",
      "execution_count": null,
      "metadata": {
        "gather": {
          "logged": 1746238814602
        }
      },
      "outputs": [],
      "source": [
        "# Config MLClient\n",
        "ml_client = MLClient.from_config(credential=credential)"
      ]
    },
    {
      "cell_type": "markdown",
      "metadata": {
        "nteract": {
          "transient": {
            "deleting": false
          }
        }
      },
      "source": [
        "## Treinando o Modelo\n",
        "\n",
        "Para treinar um modelo, é preciso criar o script python (**vendas-sorvetes.py**) na pasta **src**. O script utilizará o arquivo **vendas_sorvetes_clima_itanhaem_2023.csv** da mesma pasta."
      ]
    },
    {
      "cell_type": "code",
      "execution_count": null,
      "metadata": {
        "gather": {
          "logged": 1746240724386
        }
      },
      "outputs": [],
      "source": [
        "%%writefile src/vendas-sorvetes-2.py\n",
        "import mlflow\n",
        "import pandas as pd\n",
        "import numpy as np\n",
        "import matplotlib.pyplot as plt\n",
        "import os\n",
        "from sklearn.model_selection import train_test_split\n",
        "from sklearn.linear_model import LinearRegression\n",
        "from sklearn.metrics import mean_absolute_error, mean_squared_error, r2_score\n",
        "\n",
        "# Dados\n",
        "df = pd.read_csv('vendas_sorvetes_clima_itanhaem_2023.csv')\n",
        "df['ocorrencia_chuva'] = df['ocorrencia_chuva'].map({'Sim': 1, 'Não': 0})\n",
        "X, y = df[['temp_media', 'precipitacao', 'ocorrencia_chuva']].values, df['Qtd'].values\n",
        "X_train, X_test, y_train, y_test = train_test_split(X, y, test_size=0.2, random_state=0)\n",
        "\n",
        "# Modelo\n",
        "model = LinearRegression().fit(X_train, y_train)\n",
        "y_hat = model.predict(X_test)\n",
        "\n",
        "# Métricas\n",
        "mae = mean_absolute_error(y_test, y_hat)\n",
        "mse = mean_squared_error(y_test, y_hat)\n",
        "rmse = np.sqrt(mse)\n",
        "r2 = r2_score(y_test, y_hat)\n",
        "\n",
        "mlflow.log_metric(\"MAE\", mae)\n",
        "mlflow.log_metric(\"MSE\", mse)\n",
        "mlflow.log_metric(\"RMSE\", rmse)\n",
        "mlflow.log_metric(\"R2\", r2)\n",
        "\n",
        "# Gráfico\n",
        "residuos = y_test - y_hat\n",
        "plt.scatter(y_hat, residuos)\n",
        "plt.axhline(y=0, color='r', linestyle='--')\n",
        "plt.xlabel('Predições')\n",
        "plt.ylabel('Resíduos')\n",
        "plt.title('Gráfico de Resíduos')\n",
        "\n",
        "os.makedirs(\"outputs\", exist_ok=True)\n",
        "plt.savefig(\"outputs/residuos.png\")\n",
        "mlflow.log_artifact(\"outputs/residuos.png\", artifact_path=\"figuras\")\n",
        "\n"
      ]
    },
    {
      "cell_type": "markdown",
      "metadata": {
        "nteract": {
          "transient": {
            "deleting": false
          }
        }
      },
      "source": [
        "Executar a célula abaixo para gerar um job de execução do script:"
      ]
    },
    {
      "cell_type": "code",
      "execution_count": null,
      "metadata": {
        "gather": {
          "logged": 1746242319494
        }
      },
      "outputs": [],
      "source": [
        "from azure.ai.ml import command\n",
        "\n",
        "# configurar o job\n",
        "job = command(\n",
        "    code=\"./src\",\n",
        "    command=\"python vendas-sorvetes-2.py\",\n",
        "    environment=\"AzureML-sklearn-0.24-ubuntu18.04-py37-cpu@latest\",\n",
        "    compute=\"computeml\",\n",
        "    display_name=\"sorvetes-pythonv2-treino\",\n",
        "    experiment_name=\"vendas-sorvetes-reglinear\"\n",
        ")\n",
        "\n",
        "# criar job\n",
        "returned_job = ml_client.create_or_update(job)\n",
        "aml_url = returned_job.studio_url\n",
        "print(\"Monitor your job at\", aml_url)"
      ]
    }
  ],
  "metadata": {
    "kernel_info": {
      "name": "python38-azureml"
    },
    "kernelspec": {
      "display_name": "Python 3.10 - AzureML",
      "language": "python",
      "name": "python38-azureml"
    },
    "language_info": {
      "codemirror_mode": {
        "name": "ipython",
        "version": 3
      },
      "file_extension": ".py",
      "mimetype": "text/x-python",
      "name": "python",
      "nbconvert_exporter": "python",
      "pygments_lexer": "ipython3",
      "version": "3.10.11"
    },
    "microsoft": {
      "host": {
        "AzureML": {
          "notebookHasBeenCompleted": true
        }
      },
      "ms_spell_check": {
        "ms_spell_check_language": "en"
      }
    },
    "nteract": {
      "version": "nteract-front-end@1.0.0"
    }
  },
  "nbformat": 4,
  "nbformat_minor": 2
}
